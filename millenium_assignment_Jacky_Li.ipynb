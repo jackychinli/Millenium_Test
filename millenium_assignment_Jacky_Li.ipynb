{
 "cells": [
  {
   "cell_type": "code",
   "execution_count": 1,
   "id": "5fc82d7a",
   "metadata": {},
   "outputs": [],
   "source": [
    "import pandas as pd\n",
    "import matplotlib.pyplot as plt\n",
    "import numpy as np"
   ]
  },
  {
   "cell_type": "code",
   "execution_count": 2,
   "id": "6e4331b7",
   "metadata": {},
   "outputs": [],
   "source": [
    "# importing the dataset to dataframe\n",
    "df = pd.read_excel(r'Sample Dataset.xlsx')"
   ]
  },
  {
   "cell_type": "code",
   "execution_count": 3,
   "id": "45e6ab33",
   "metadata": {},
   "outputs": [
    {
     "data": {
      "text/html": [
       "<div>\n",
       "<style scoped>\n",
       "    .dataframe tbody tr th:only-of-type {\n",
       "        vertical-align: middle;\n",
       "    }\n",
       "\n",
       "    .dataframe tbody tr th {\n",
       "        vertical-align: top;\n",
       "    }\n",
       "\n",
       "    .dataframe thead th {\n",
       "        text-align: right;\n",
       "    }\n",
       "</style>\n",
       "<table border=\"1\" class=\"dataframe\">\n",
       "  <thead>\n",
       "    <tr style=\"text-align: right;\">\n",
       "      <th></th>\n",
       "      <th>Date</th>\n",
       "      <th>Signal</th>\n",
       "      <th>Open</th>\n",
       "      <th>High</th>\n",
       "      <th>Low</th>\n",
       "      <th>Close</th>\n",
       "      <th>Adj Close</th>\n",
       "    </tr>\n",
       "  </thead>\n",
       "  <tbody>\n",
       "    <tr>\n",
       "      <th>0</th>\n",
       "      <td>2015-11-19</td>\n",
       "      <td>13.768540</td>\n",
       "      <td>116.440002</td>\n",
       "      <td>116.650002</td>\n",
       "      <td>115.739998</td>\n",
       "      <td>116.059998</td>\n",
       "      <td>108.281601</td>\n",
       "    </tr>\n",
       "    <tr>\n",
       "      <th>1</th>\n",
       "      <td>2015-11-20</td>\n",
       "      <td>13.608819</td>\n",
       "      <td>116.480003</td>\n",
       "      <td>117.360001</td>\n",
       "      <td>116.379997</td>\n",
       "      <td>116.809998</td>\n",
       "      <td>108.981323</td>\n",
       "    </tr>\n",
       "    <tr>\n",
       "      <th>2</th>\n",
       "      <td>2015-11-23</td>\n",
       "      <td>12.990589</td>\n",
       "      <td>116.709999</td>\n",
       "      <td>117.889999</td>\n",
       "      <td>116.680000</td>\n",
       "      <td>117.389999</td>\n",
       "      <td>109.522453</td>\n",
       "    </tr>\n",
       "    <tr>\n",
       "      <th>3</th>\n",
       "      <td>2015-11-24</td>\n",
       "      <td>12.667435</td>\n",
       "      <td>116.879997</td>\n",
       "      <td>118.419998</td>\n",
       "      <td>116.559998</td>\n",
       "      <td>118.250000</td>\n",
       "      <td>110.324837</td>\n",
       "    </tr>\n",
       "    <tr>\n",
       "      <th>4</th>\n",
       "      <td>2015-11-25</td>\n",
       "      <td>13.019910</td>\n",
       "      <td>118.300003</td>\n",
       "      <td>119.320000</td>\n",
       "      <td>118.110001</td>\n",
       "      <td>119.169998</td>\n",
       "      <td>111.183159</td>\n",
       "    </tr>\n",
       "  </tbody>\n",
       "</table>\n",
       "</div>"
      ],
      "text/plain": [
       "        Date     Signal        Open        High         Low       Close  \\\n",
       "0 2015-11-19  13.768540  116.440002  116.650002  115.739998  116.059998   \n",
       "1 2015-11-20  13.608819  116.480003  117.360001  116.379997  116.809998   \n",
       "2 2015-11-23  12.990589  116.709999  117.889999  116.680000  117.389999   \n",
       "3 2015-11-24  12.667435  116.879997  118.419998  116.559998  118.250000   \n",
       "4 2015-11-25  13.019910  118.300003  119.320000  118.110001  119.169998   \n",
       "\n",
       "    Adj Close  \n",
       "0  108.281601  \n",
       "1  108.981323  \n",
       "2  109.522453  \n",
       "3  110.324837  \n",
       "4  111.183159  "
      ]
     },
     "execution_count": 3,
     "metadata": {},
     "output_type": "execute_result"
    }
   ],
   "source": [
    "df.head()"
   ]
  },
  {
   "cell_type": "markdown",
   "id": "682bea62",
   "metadata": {},
   "source": [
    "# 1. Review the data quality"
   ]
  },
  {
   "cell_type": "code",
   "execution_count": 4,
   "id": "625ca94f",
   "metadata": {},
   "outputs": [
    {
     "data": {
      "text/plain": [
       "(1038, 7)"
      ]
     },
     "execution_count": 4,
     "metadata": {},
     "output_type": "execute_result"
    }
   ],
   "source": [
    "# exploring the dataset shape\n",
    "data = df.copy()\n",
    "data.shape"
   ]
  },
  {
   "cell_type": "code",
   "execution_count": 5,
   "id": "47db4dc8",
   "metadata": {},
   "outputs": [
    {
     "data": {
      "text/plain": [
       "Date         0\n",
       "Signal       0\n",
       "Open         0\n",
       "High         0\n",
       "Low          0\n",
       "Close        0\n",
       "Adj Close    0\n",
       "dtype: int64"
      ]
     },
     "execution_count": 5,
     "metadata": {},
     "output_type": "execute_result"
    }
   ],
   "source": [
    "# checking for missing values\n",
    "data.isna().sum()"
   ]
  },
  {
   "cell_type": "markdown",
   "id": "cc7be5bd",
   "metadata": {},
   "source": [
    "No Missing Value could be found"
   ]
  },
  {
   "cell_type": "code",
   "execution_count": 6,
   "id": "f6e4fcfe",
   "metadata": {},
   "outputs": [
    {
     "data": {
      "text/plain": [
       "<AxesSubplot:xlabel='Date'>"
      ]
     },
     "execution_count": 6,
     "metadata": {},
     "output_type": "execute_result"
    },
    {
     "data": {
      "image/png": "[encoded data removed]",
      "text/plain": [
       "<Figure size 432x288 with 1 Axes>"
      ]
     },
     "metadata": {
      "needs_background": "light"
     },
     "output_type": "display_data"
    }
   ],
   "source": [
    "# plotting the data to visualize any apparent errors\n",
    "data.plot(x=\"Date\", y=[\"Open\", \"High\", \"Low\", \"Close\", \"Adj Close\"])"
   ]
  },
  {
   "cell_type": "markdown",
   "id": "7674d580",
   "metadata": {},
   "source": [
    "Based on the above time series price plot, one obvious outlier can be seen between 2018-07 and 2019-01 the value appears to be negative for the adj return, which does not make sense.\n",
    "Zoom in to the data and clean the error data"
   ]
  },
  {
   "cell_type": "code",
   "execution_count": 7,
   "id": "443616a6",
   "metadata": {
    "scrolled": true
   },
   "outputs": [
    {
     "data": {
      "text/plain": [
       "<AxesSubplot:xlabel='Date'>"
      ]
     },
     "execution_count": 7,
     "metadata": {},
     "output_type": "execute_result"
    },
    {
     "data": {
      "image/png": "[encoded data removed]",
      "text/plain": [
       "<Figure size 432x288 with 1 Axes>"
      ]
     },
     "metadata": {
      "needs_background": "light"
     },
     "output_type": "display_data"
    }
   ],
   "source": [
    "zoomed = data.loc[(data[\"Date\"]>\"2018-07-01\")& (data[\"Date\"]<\"2019-01-01\")]\n",
    "zoomed.plot(x=\"Date\", y=[\"Open\", \"High\", \"Low\", \"Close\", \"Adj Close\"])"
   ]
  },
  {
   "cell_type": "code",
   "execution_count": 8,
   "id": "8c163130",
   "metadata": {},
   "outputs": [
    {
     "data": {
      "text/html": [
       "<div>\n",
       "<style scoped>\n",
       "    .dataframe tbody tr th:only-of-type {\n",
       "        vertical-align: middle;\n",
       "    }\n",
       "\n",
       "    .dataframe tbody tr th {\n",
       "        vertical-align: top;\n",
       "    }\n",
       "\n",
       "    .dataframe thead th {\n",
       "        text-align: right;\n",
       "    }\n",
       "</style>\n",
       "<table border=\"1\" class=\"dataframe\">\n",
       "  <thead>\n",
       "    <tr style=\"text-align: right;\">\n",
       "      <th></th>\n",
       "      <th>Date</th>\n",
       "      <th>Signal</th>\n",
       "      <th>Open</th>\n",
       "      <th>High</th>\n",
       "      <th>Low</th>\n",
       "      <th>Close</th>\n",
       "      <th>Adj Close</th>\n",
       "    </tr>\n",
       "  </thead>\n",
       "  <tbody>\n",
       "    <tr>\n",
       "      <th>726</th>\n",
       "      <td>2018-10-02</td>\n",
       "      <td>19.735209</td>\n",
       "      <td>166.179993</td>\n",
       "      <td>166.529999</td>\n",
       "      <td>164.179993</td>\n",
       "      <td>164.529999</td>\n",
       "      <td>160.029877</td>\n",
       "    </tr>\n",
       "    <tr>\n",
       "      <th>727</th>\n",
       "      <td>2018-10-03</td>\n",
       "      <td>18.282843</td>\n",
       "      <td>165.179993</td>\n",
       "      <td>166.729996</td>\n",
       "      <td>164.509995</td>\n",
       "      <td>165.970001</td>\n",
       "      <td>161.430481</td>\n",
       "    </tr>\n",
       "    <tr>\n",
       "      <th>728</th>\n",
       "      <td>2018-10-04</td>\n",
       "      <td>19.720644</td>\n",
       "      <td>165.440002</td>\n",
       "      <td>165.649994</td>\n",
       "      <td>163.130005</td>\n",
       "      <td>163.639999</td>\n",
       "      <td>159.164215</td>\n",
       "    </tr>\n",
       "    <tr>\n",
       "      <th>729</th>\n",
       "      <td>2018-10-05</td>\n",
       "      <td>18.354276</td>\n",
       "      <td>163.750000</td>\n",
       "      <td>164.160004</td>\n",
       "      <td>160.660004</td>\n",
       "      <td>162.160004</td>\n",
       "      <td>157.724701</td>\n",
       "    </tr>\n",
       "    <tr>\n",
       "      <th>730</th>\n",
       "      <td>2018-10-08</td>\n",
       "      <td>20.367731</td>\n",
       "      <td>161.770004</td>\n",
       "      <td>162.399994</td>\n",
       "      <td>160.550003</td>\n",
       "      <td>161.820007</td>\n",
       "      <td>157.393982</td>\n",
       "    </tr>\n",
       "    <tr>\n",
       "      <th>731</th>\n",
       "      <td>2018-10-09</td>\n",
       "      <td>26.124873</td>\n",
       "      <td>161.619995</td>\n",
       "      <td>162.740005</td>\n",
       "      <td>160.979996</td>\n",
       "      <td>161.190002</td>\n",
       "      <td>156.781219</td>\n",
       "    </tr>\n",
       "    <tr>\n",
       "      <th>732</th>\n",
       "      <td>2018-10-10</td>\n",
       "      <td>19.719477</td>\n",
       "      <td>160.820007</td>\n",
       "      <td>160.990005</td>\n",
       "      <td>156.360001</td>\n",
       "      <td>156.559998</td>\n",
       "      <td>-152.277847</td>\n",
       "    </tr>\n",
       "    <tr>\n",
       "      <th>733</th>\n",
       "      <td>2018-10-11</td>\n",
       "      <td>18.794839</td>\n",
       "      <td>155.809998</td>\n",
       "      <td>157.320007</td>\n",
       "      <td>153.509995</td>\n",
       "      <td>153.570007</td>\n",
       "      <td>149.369629</td>\n",
       "    </tr>\n",
       "    <tr>\n",
       "      <th>734</th>\n",
       "      <td>2018-10-12</td>\n",
       "      <td>18.218555</td>\n",
       "      <td>155.559998</td>\n",
       "      <td>155.759995</td>\n",
       "      <td>151.889999</td>\n",
       "      <td>153.600006</td>\n",
       "      <td>149.398819</td>\n",
       "    </tr>\n",
       "    <tr>\n",
       "      <th>735</th>\n",
       "      <td>2018-10-15</td>\n",
       "      <td>18.232469</td>\n",
       "      <td>153.360001</td>\n",
       "      <td>155.289993</td>\n",
       "      <td>152.539993</td>\n",
       "      <td>154.169998</td>\n",
       "      <td>149.953232</td>\n",
       "    </tr>\n",
       "    <tr>\n",
       "      <th>736</th>\n",
       "      <td>2018-10-16</td>\n",
       "      <td>18.738463</td>\n",
       "      <td>155.279999</td>\n",
       "      <td>158.860001</td>\n",
       "      <td>154.039993</td>\n",
       "      <td>158.639999</td>\n",
       "      <td>154.300995</td>\n",
       "    </tr>\n",
       "    <tr>\n",
       "      <th>737</th>\n",
       "      <td>2018-10-17</td>\n",
       "      <td>19.144173</td>\n",
       "      <td>158.179993</td>\n",
       "      <td>158.220001</td>\n",
       "      <td>155.889999</td>\n",
       "      <td>157.960007</td>\n",
       "      <td>153.639572</td>\n",
       "    </tr>\n",
       "    <tr>\n",
       "      <th>738</th>\n",
       "      <td>2018-10-18</td>\n",
       "      <td>17.729952</td>\n",
       "      <td>157.410004</td>\n",
       "      <td>157.630005</td>\n",
       "      <td>154.369995</td>\n",
       "      <td>155.000000</td>\n",
       "      <td>150.760529</td>\n",
       "    </tr>\n",
       "    <tr>\n",
       "      <th>739</th>\n",
       "      <td>2018-10-19</td>\n",
       "      <td>17.461385</td>\n",
       "      <td>155.470001</td>\n",
       "      <td>156.360001</td>\n",
       "      <td>154.740005</td>\n",
       "      <td>153.360001</td>\n",
       "      <td>149.165390</td>\n",
       "    </tr>\n",
       "    <tr>\n",
       "      <th>740</th>\n",
       "      <td>2018-10-22</td>\n",
       "      <td>17.476161</td>\n",
       "      <td>153.919998</td>\n",
       "      <td>154.449997</td>\n",
       "      <td>152.520004</td>\n",
       "      <td>153.029999</td>\n",
       "      <td>148.844406</td>\n",
       "    </tr>\n",
       "    <tr>\n",
       "      <th>741</th>\n",
       "      <td>2018-10-23</td>\n",
       "      <td>18.036510</td>\n",
       "      <td>150.929993</td>\n",
       "      <td>152.889999</td>\n",
       "      <td>148.919998</td>\n",
       "      <td>151.660004</td>\n",
       "      <td>147.511887</td>\n",
       "    </tr>\n",
       "    <tr>\n",
       "      <th>742</th>\n",
       "      <td>2018-10-24</td>\n",
       "      <td>18.273317</td>\n",
       "      <td>151.429993</td>\n",
       "      <td>151.979996</td>\n",
       "      <td>145.820007</td>\n",
       "      <td>145.949997</td>\n",
       "      <td>141.958054</td>\n",
       "    </tr>\n",
       "    <tr>\n",
       "      <th>743</th>\n",
       "      <td>2018-10-25</td>\n",
       "      <td>19.771999</td>\n",
       "      <td>146.729996</td>\n",
       "      <td>149.820007</td>\n",
       "      <td>146.410004</td>\n",
       "      <td>149.110001</td>\n",
       "      <td>145.031616</td>\n",
       "    </tr>\n",
       "    <tr>\n",
       "      <th>744</th>\n",
       "      <td>2018-10-26</td>\n",
       "      <td>18.319750</td>\n",
       "      <td>147.539993</td>\n",
       "      <td>149.419998</td>\n",
       "      <td>144.699997</td>\n",
       "      <td>147.479996</td>\n",
       "      <td>143.446213</td>\n",
       "    </tr>\n",
       "    <tr>\n",
       "      <th>745</th>\n",
       "      <td>2018-10-29</td>\n",
       "      <td>19.673674</td>\n",
       "      <td>149.130005</td>\n",
       "      <td>150.630005</td>\n",
       "      <td>145.070007</td>\n",
       "      <td>146.669998</td>\n",
       "      <td>142.658371</td>\n",
       "    </tr>\n",
       "    <tr>\n",
       "      <th>746</th>\n",
       "      <td>2018-10-30</td>\n",
       "      <td>20.209811</td>\n",
       "      <td>146.850006</td>\n",
       "      <td>149.889999</td>\n",
       "      <td>146.559998</td>\n",
       "      <td>149.729996</td>\n",
       "      <td>145.634674</td>\n",
       "    </tr>\n",
       "    <tr>\n",
       "      <th>747</th>\n",
       "      <td>2018-10-31</td>\n",
       "      <td>19.056472</td>\n",
       "      <td>151.259995</td>\n",
       "      <td>151.860001</td>\n",
       "      <td>150.029999</td>\n",
       "      <td>150.029999</td>\n",
       "      <td>145.926453</td>\n",
       "    </tr>\n",
       "  </tbody>\n",
       "</table>\n",
       "</div>"
      ],
      "text/plain": [
       "          Date     Signal        Open        High         Low       Close  \\\n",
       "726 2018-10-02  19.735209  166.179993  166.529999  164.179993  164.529999   \n",
       "727 2018-10-03  18.282843  165.179993  166.729996  164.509995  165.970001   \n",
       "728 2018-10-04  19.720644  165.440002  165.649994  163.130005  163.639999   \n",
       "729 2018-10-05  18.354276  163.750000  164.160004  160.660004  162.160004   \n",
       "730 2018-10-08  20.367731  161.770004  162.399994  160.550003  161.820007   \n",
       "731 2018-10-09  26.124873  161.619995  162.740005  160.979996  161.190002   \n",
       "732 2018-10-10  19.719477  160.820007  160.990005  156.360001  156.559998   \n",
       "733 2018-10-11  18.794839  155.809998  157.320007  153.509995  153.570007   \n",
       "734 2018-10-12  18.218555  155.559998  155.759995  151.889999  153.600006   \n",
       "735 2018-10-15  18.232469  153.360001  155.289993  152.539993  154.169998   \n",
       "736 2018-10-16  18.738463  155.279999  158.860001  154.039993  158.639999   \n",
       "737 2018-10-17  19.144173  158.179993  158.220001  155.889999  157.960007   \n",
       "738 2018-10-18  17.729952  157.410004  157.630005  154.369995  155.000000   \n",
       "739 2018-10-19  17.461385  155.470001  156.360001  154.740005  153.360001   \n",
       "740 2018-10-22  17.476161  153.919998  154.449997  152.520004  153.029999   \n",
       "741 2018-10-23  18.036510  150.929993  152.889999  148.919998  151.660004   \n",
       "742 2018-10-24  18.273317  151.429993  151.979996  145.820007  145.949997   \n",
       "743 2018-10-25  19.771999  146.729996  149.820007  146.410004  149.110001   \n",
       "744 2018-10-26  18.319750  147.539993  149.419998  144.699997  147.479996   \n",
       "745 2018-10-29  19.673674  149.130005  150.630005  145.070007  146.669998   \n",
       "746 2018-10-30  20.209811  146.850006  149.889999  146.559998  149.729996   \n",
       "747 2018-10-31  19.056472  151.259995  151.860001  150.029999  150.029999   \n",
       "\n",
       "      Adj Close  \n",
       "726  160.029877  \n",
       "727  161.430481  \n",
       "728  159.164215  \n",
       "729  157.724701  \n",
       "730  157.393982  \n",
       "731  156.781219  \n",
       "732 -152.277847  \n",
       "733  149.369629  \n",
       "734  149.398819  \n",
       "735  149.953232  \n",
       "736  154.300995  \n",
       "737  153.639572  \n",
       "738  150.760529  \n",
       "739  149.165390  \n",
       "740  148.844406  \n",
       "741  147.511887  \n",
       "742  141.958054  \n",
       "743  145.031616  \n",
       "744  143.446213  \n",
       "745  142.658371  \n",
       "746  145.634674  \n",
       "747  145.926453  "
      ]
     },
     "execution_count": 8,
     "metadata": {},
     "output_type": "execute_result"
    }
   ],
   "source": [
    "zoomed.loc[(zoomed[\"Date\"]>\"2018-10-01\")& (zoomed[\"Date\"]<\"2018-11-01\")]"
   ]
  },
  {
   "cell_type": "markdown",
   "id": "c479d3a6",
   "metadata": {},
   "source": [
    "Guessing that the error is due to misadded negative sign for Adj Close result on 2018-10-10"
   ]
  },
  {
   "cell_type": "markdown",
   "id": "e05703bd",
   "metadata": {},
   "source": [
    "Correction: change Adj Close price to positive"
   ]
  },
  {
   "cell_type": "code",
   "execution_count": 9,
   "id": "4cfbb7ae",
   "metadata": {
    "scrolled": true
   },
   "outputs": [],
   "source": [
    "data[\"Adj Close Clean\"] = abs(data[\"Adj Close\"])"
   ]
  },
  {
   "cell_type": "code",
   "execution_count": 10,
   "id": "0bdf760e",
   "metadata": {},
   "outputs": [
    {
     "data": {
      "text/plain": [
       "<AxesSubplot:xlabel='Date'>"
      ]
     },
     "execution_count": 10,
     "metadata": {},
     "output_type": "execute_result"
    },
    {
     "data": {
      "image/png": "[encoded data removed]",
      "text/plain": [
       "<Figure size 432x288 with 1 Axes>"
      ]
     },
     "metadata": {
      "needs_background": "light"
     },
     "output_type": "display_data"
    }
   ],
   "source": [
    "# Plot the new price after error correction\n",
    "data.plot(x=\"Date\", y=[\"Open\", \"High\", \"Low\", \"Close\", \"Adj Close Clean\"])"
   ]
  },
  {
   "cell_type": "code",
   "execution_count": 11,
   "id": "7e84202d",
   "metadata": {},
   "outputs": [
    {
     "data": {
      "text/plain": [
       "<AxesSubplot:xlabel='Date'>"
      ]
     },
     "execution_count": 11,
     "metadata": {},
     "output_type": "execute_result"
    },
    {
     "data": {
      "image/png": "[encoded data removed]",
      "text/plain": [
       "<Figure size 432x288 with 1 Axes>"
      ]
     },
     "metadata": {
      "needs_background": "light"
     },
     "output_type": "display_data"
    }
   ],
   "source": [
    "# Checking any errors in the signal with plot\n",
    "data.plot(x=\"Date\", y=\"Signal\")"
   ]
  },
  {
   "cell_type": "markdown",
   "id": "10d7cc97",
   "metadata": {},
   "source": [
    "Apparently the final few entries of the signal are zeros. "
   ]
  },
  {
   "cell_type": "markdown",
   "id": "800f2c38",
   "metadata": {},
   "source": [
    "Correction: Delete the last 6 rows of data to eliminate the zero signals"
   ]
  },
  {
   "cell_type": "code",
   "execution_count": 12,
   "id": "1f2af1b2",
   "metadata": {},
   "outputs": [
    {
     "data": {
      "text/plain": [
       "<AxesSubplot:xlabel='Date'>"
      ]
     },
     "execution_count": 12,
     "metadata": {},
     "output_type": "execute_result"
    },
    {
     "data": {
      "image/png": "[encoded data removed]",
      "text/plain": [
       "<Figure size 432x288 with 1 Axes>"
      ]
     },
     "metadata": {
      "needs_background": "light"
     },
     "output_type": "display_data"
    }
   ],
   "source": [
    "data.drop(data.tail(6).index,inplace=True)\n",
    "data.plot(x=\"Date\", y=\"Signal\")"
   ]
  },
  {
   "cell_type": "markdown",
   "id": "abff1628",
   "metadata": {},
   "source": [
    "There are also a few spikes where the signal is unusually high on some particular days."
   ]
  },
  {
   "cell_type": "markdown",
   "id": "eb7bd823",
   "metadata": {},
   "source": [
    "However, since no criteria has been given to determine the validity of these spikes, we cannot tell whether they are errors or just normal fluctuations in the calculated signal."
   ]
  },
  {
   "cell_type": "code",
   "execution_count": 13,
   "id": "963268ed",
   "metadata": {},
   "outputs": [
    {
     "data": {
      "text/html": [
       "<div>\n",
       "<style scoped>\n",
       "    .dataframe tbody tr th:only-of-type {\n",
       "        vertical-align: middle;\n",
       "    }\n",
       "\n",
       "    .dataframe tbody tr th {\n",
       "        vertical-align: top;\n",
       "    }\n",
       "\n",
       "    .dataframe thead th {\n",
       "        text-align: right;\n",
       "    }\n",
       "</style>\n",
       "<table border=\"1\" class=\"dataframe\">\n",
       "  <thead>\n",
       "    <tr style=\"text-align: right;\">\n",
       "      <th></th>\n",
       "      <th>Signal</th>\n",
       "      <th>Open</th>\n",
       "      <th>High</th>\n",
       "      <th>Low</th>\n",
       "      <th>Close</th>\n",
       "      <th>Adj Close</th>\n",
       "      <th>Adj Close Clean</th>\n",
       "    </tr>\n",
       "  </thead>\n",
       "  <tbody>\n",
       "    <tr>\n",
       "      <th>count</th>\n",
       "      <td>1032.000000</td>\n",
       "      <td>1032.000000</td>\n",
       "      <td>1032.000000</td>\n",
       "      <td>1032.000000</td>\n",
       "      <td>1032.000000</td>\n",
       "      <td>1032.000000</td>\n",
       "      <td>1032.000000</td>\n",
       "    </tr>\n",
       "    <tr>\n",
       "      <th>mean</th>\n",
       "      <td>16.863667</td>\n",
       "      <td>141.710320</td>\n",
       "      <td>142.554951</td>\n",
       "      <td>140.771376</td>\n",
       "      <td>141.703198</td>\n",
       "      <td>136.181874</td>\n",
       "      <td>136.476987</td>\n",
       "    </tr>\n",
       "    <tr>\n",
       "      <th>std</th>\n",
       "      <td>2.827404</td>\n",
       "      <td>18.441019</td>\n",
       "      <td>18.436117</td>\n",
       "      <td>18.370474</td>\n",
       "      <td>18.461935</td>\n",
       "      <td>21.387750</td>\n",
       "      <td>19.413729</td>\n",
       "    </tr>\n",
       "    <tr>\n",
       "      <th>min</th>\n",
       "      <td>10.582996</td>\n",
       "      <td>94.080002</td>\n",
       "      <td>95.400002</td>\n",
       "      <td>93.639999</td>\n",
       "      <td>94.790001</td>\n",
       "      <td>-152.277847</td>\n",
       "      <td>88.820946</td>\n",
       "    </tr>\n",
       "    <tr>\n",
       "      <th>25%</th>\n",
       "      <td>14.804177</td>\n",
       "      <td>131.805000</td>\n",
       "      <td>132.532501</td>\n",
       "      <td>130.297501</td>\n",
       "      <td>131.607502</td>\n",
       "      <td>124.713385</td>\n",
       "      <td>125.136505</td>\n",
       "    </tr>\n",
       "    <tr>\n",
       "      <th>50%</th>\n",
       "      <td>17.354140</td>\n",
       "      <td>146.710007</td>\n",
       "      <td>147.924995</td>\n",
       "      <td>145.489998</td>\n",
       "      <td>146.665001</td>\n",
       "      <td>142.616989</td>\n",
       "      <td>142.631638</td>\n",
       "    </tr>\n",
       "    <tr>\n",
       "      <th>75%</th>\n",
       "      <td>19.032254</td>\n",
       "      <td>155.279999</td>\n",
       "      <td>156.184994</td>\n",
       "      <td>154.245002</td>\n",
       "      <td>155.207497</td>\n",
       "      <td>151.554466</td>\n",
       "      <td>151.599186</td>\n",
       "    </tr>\n",
       "    <tr>\n",
       "      <th>max</th>\n",
       "      <td>35.434147</td>\n",
       "      <td>172.789993</td>\n",
       "      <td>173.389999</td>\n",
       "      <td>171.949997</td>\n",
       "      <td>196.279999</td>\n",
       "      <td>168.842270</td>\n",
       "      <td>168.842270</td>\n",
       "    </tr>\n",
       "  </tbody>\n",
       "</table>\n",
       "</div>"
      ],
      "text/plain": [
       "            Signal         Open         High          Low        Close  \\\n",
       "count  1032.000000  1032.000000  1032.000000  1032.000000  1032.000000   \n",
       "mean     16.863667   141.710320   142.554951   140.771376   141.703198   \n",
       "std       2.827404    18.441019    18.436117    18.370474    18.461935   \n",
       "min      10.582996    94.080002    95.400002    93.639999    94.790001   \n",
       "25%      14.804177   131.805000   132.532501   130.297501   131.607502   \n",
       "50%      17.354140   146.710007   147.924995   145.489998   146.665001   \n",
       "75%      19.032254   155.279999   156.184994   154.245002   155.207497   \n",
       "max      35.434147   172.789993   173.389999   171.949997   196.279999   \n",
       "\n",
       "         Adj Close  Adj Close Clean  \n",
       "count  1032.000000      1032.000000  \n",
       "mean    136.181874       136.476987  \n",
       "std      21.387750        19.413729  \n",
       "min    -152.277847        88.820946  \n",
       "25%     124.713385       125.136505  \n",
       "50%     142.616989       142.631638  \n",
       "75%     151.554466       151.599186  \n",
       "max     168.842270       168.842270  "
      ]
     },
     "execution_count": 13,
     "metadata": {},
     "output_type": "execute_result"
    }
   ],
   "source": [
    "# Data summary after cleaning\n",
    "data.describe()"
   ]
  },
  {
   "cell_type": "markdown",
   "id": "84493b62",
   "metadata": {},
   "source": [
    "From the summary table, we can see that the error values are gone in Signal and Adj Close Clean"
   ]
  },
  {
   "cell_type": "markdown",
   "id": "5dce99fc",
   "metadata": {},
   "source": [
    "   # 2. Analyzing Signal Effectiveness"
   ]
  },
  {
   "cell_type": "markdown",
   "id": "53c7af71",
   "metadata": {},
   "source": [
    "Signal effectiveness will be evaluated based on the following assumptions:"
   ]
  },
  {
   "cell_type": "markdown",
   "id": "178d6460",
   "metadata": {},
   "source": [
    "a. Since there is no negative value for signal, we can assume that the forecasting is on daily price not on returns (because returns can be negative, while price is always positive)"
   ]
  },
  {
   "cell_type": "markdown",
   "id": "bc90cdb6",
   "metadata": {},
   "source": [
    "b. The values of signal appears proportional to the price, even though the values of signal and price are not close to each other"
   ]
  },
  {
   "cell_type": "markdown",
   "id": "1746d016",
   "metadata": {},
   "source": [
    "c. We assume that the relationship between signal and price values is estimated by multiplication of a scalar factor. We call it \"C\""
   ]
  },
  {
   "cell_type": "markdown",
   "id": "08b4633a",
   "metadata": {},
   "source": [
    "d. We have no information about whether the signal is generated each day before or after market closes. We will assume that the signal is generated each day before market open. Therefore the signal should be used to forecast the ETF prices of the same day, not the day after. If the signal is calculated after market closes, then it can only be used to forecast the next day's prices. In this case, we need to shift the signal by one day to evaluate its forecasting effectiveness of the next day prices."
   ]
  },
  {
   "cell_type": "markdown",
   "id": "2324ca15",
   "metadata": {},
   "source": [
    "e. We do not have any information about what the signal is forecasting. Therefore I will evaluate the signal effectiveness of forecasting each price individually"
   ]
  },
  {
   "cell_type": "code",
   "execution_count": 14,
   "id": "e02875b1",
   "metadata": {},
   "outputs": [
    {
     "name": "stdout",
     "output_type": "stream",
     "text": [
      "r_open: 0.929529\n",
      "r_high: 0.931475\n",
      "r_low: 0.929225\n",
      "r_close: 0.929353\n",
      "r_adjclose: 0.935298\n"
     ]
    }
   ],
   "source": [
    "# First we compute the correlation between the signal and each price\n",
    "signal = data[\"Signal\"]\n",
    "openPrice = data[\"Open\"]\n",
    "highPrice = data[\"High\"]\n",
    "lowPrice = data[\"Low\"]\n",
    "closePrice = data[\"Close\"]\n",
    "adjClosePrice = data [\"Adj Close Clean\"]\n",
    "r_open = signal.corr(openPrice)\n",
    "r_high = signal.corr(highPrice)\n",
    "r_low = signal.corr(lowPrice)\n",
    "r_close = signal.corr(closePrice)\n",
    "r_adjclose = signal.corr(adjClosePrice)\n",
    "print('r_open: %f' % r_open)\n",
    "print('r_high: %f' % r_high)\n",
    "print('r_low: %f' % r_low)\n",
    "print('r_close: %f' % r_close)\n",
    "print('r_adjclose: %f' % r_adjclose)"
   ]
  },
  {
   "cell_type": "markdown",
   "id": "d5a0da06",
   "metadata": {},
   "source": [
    "We can see that the signal is most correlated with the Adj Close Price with a correlation coefficient of 0.935. This is a high correlation coefficient, meaning that the signal and Adi Close Price are highly correlated. "
   ]
  },
  {
   "cell_type": "code",
   "execution_count": 15,
   "id": "75f14ab1",
   "metadata": {},
   "outputs": [],
   "source": [
    "# Estimate the multiplication factor C for each price\n",
    "from numpy import mean\n",
    "C_open = mean(openPrice)/mean(signal)\n",
    "C_high = mean(highPrice)/mean(signal)\n",
    "C_low = mean(lowPrice)/mean(signal)\n",
    "C_close = mean(closePrice)/mean(signal)\n",
    "C_adjclose = mean(adjClosePrice)/mean(signal)\n",
    "prediction_open = C_open*signal\n",
    "prediction_high = C_high*signal\n",
    "prediction_low = C_low*signal\n",
    "prediction_close = C_close*signal\n",
    "prediction_adjclose = C_adjclose*signal"
   ]
  },
  {
   "cell_type": "code",
   "execution_count": 16,
   "id": "817ba205",
   "metadata": {},
   "outputs": [
    {
     "name": "stdout",
     "output_type": "stream",
     "text": [
      "mae_open: 6.617177\n",
      "mae_high: 6.612288\n",
      "mae_low: 6.570234\n",
      "mae_close: 6.577245\n",
      "mae_adjclose: 5.307527\n"
     ]
    }
   ],
   "source": [
    "# Calculate the mean absolute error\n",
    "from sklearn.metrics import mean_absolute_error\n",
    "mae_open = mean_absolute_error(openPrice, prediction_open)\n",
    "mae_high = mean_absolute_error(highPrice, prediction_high)\n",
    "mae_low = mean_absolute_error(lowPrice, prediction_low)\n",
    "mae_close = mean_absolute_error(closePrice, prediction_close)\n",
    "mae_adjclose = mean_absolute_error(adjClosePrice, prediction_adjclose)\n",
    "print('mae_open: %f' % mae_open)\n",
    "print('mae_high: %f' % mae_high)\n",
    "print('mae_low: %f' % mae_low)\n",
    "print('mae_close: %f' % mae_close)\n",
    "print('mae_adjclose: %f' % mae_adjclose)"
   ]
  },
  {
   "cell_type": "code",
   "execution_count": 17,
   "id": "a3ff9dae",
   "metadata": {},
   "outputs": [
    {
     "name": "stdout",
     "output_type": "stream",
     "text": [
      "rmse_open: 9.484330\n",
      "rmse_high: 9.495719\n",
      "rmse_low: 9.415806\n",
      "rmse_close: 9.483618\n",
      "rmse_adjclose: 8.333495\n"
     ]
    }
   ],
   "source": [
    "# Calculate the root mean squared error\n",
    "from sklearn.metrics import mean_squared_error\n",
    "from math import sqrt\n",
    "mse_open = mean_squared_error(openPrice, prediction_open)\n",
    "mse_high = mean_squared_error(highPrice, prediction_high)\n",
    "mse_low = mean_squared_error(lowPrice, prediction_low)\n",
    "mse_close = mean_squared_error(closePrice, prediction_close)\n",
    "mse_adjclose = mean_squared_error(adjClosePrice, prediction_adjclose)\n",
    "rmse_open = sqrt(mse_open)\n",
    "rmse_high = sqrt(mse_high)\n",
    "rmse_low = sqrt(mse_low)\n",
    "rmse_close = sqrt(mse_close)\n",
    "rmse_adjclose = sqrt(mse_adjclose)\n",
    "print('rmse_open: %f' % rmse_open)\n",
    "print('rmse_high: %f' % rmse_high)\n",
    "print('rmse_low: %f' % rmse_low)\n",
    "print('rmse_close: %f' % rmse_close)\n",
    "print('rmse_adjclose: %f' % rmse_adjclose)"
   ]
  },
  {
   "cell_type": "markdown",
   "id": "4fd05dc2",
   "metadata": {},
   "source": [
    "Based on MAE and RMSE, we can observe that both MAE and RMSE are lowest for forecasting the adj close price. Therefore, we can say that the signal is best at forecasting the adj close price."
   ]
  },
  {
   "cell_type": "markdown",
   "id": "a33c0dcc",
   "metadata": {},
   "source": [
    "Also the RMSE of 8.333 is quite good for a forecasting result, considering that the price seems quite volatile."
   ]
  },
  {
   "cell_type": "markdown",
   "id": "f1df6fcf",
   "metadata": {},
   "source": [
    "### Based on the above observation, we will pick the adj close price for the following volatility analysis:"
   ]
  },
  {
   "cell_type": "code",
   "execution_count": 18,
   "id": "5be33958",
   "metadata": {},
   "outputs": [
    {
     "data": {
      "image/png": "[encoded data removed]",
      "text/plain": [
       "<Figure size 720x504 with 1 Axes>"
      ]
     },
     "metadata": {
      "needs_background": "light"
     },
     "output_type": "display_data"
    },
    {
     "data": {
      "image/png": "[encoded data removed]",
      "text/plain": [
       "<Figure size 720x504 with 1 Axes>"
      ]
     },
     "metadata": {
      "needs_background": "light"
     },
     "output_type": "display_data"
    }
   ],
   "source": [
    "# Calculate the returns volitility for adj close price \n",
    "# calculate daily logarithmic return\n",
    "returns = (np.log(adjClosePrice / adjClosePrice.shift(-1)))\n",
    "      \n",
    "# calculate daily standard deviation of returns\n",
    "daily_std = np.std(returns)\n",
    "  \n",
    "# annualized daily standard deviation\n",
    "std = daily_std * 252 ** 0.5\n",
    "\n",
    "# Plot histograms\n",
    "fig, ax = plt.subplots(1, 1, figsize=(10, 7))\n",
    "n, bins, patches = ax.hist(\n",
    "    returns.values,\n",
    "    bins=50, alpha=0.65, color='blue')\n",
    " \n",
    "ax.set_xlabel('log return of ETF adj close price')\n",
    "ax.set_ylabel('frequency of log return')\n",
    "ax.set_title('Historical Volatility')\n",
    "  \n",
    "# get x and y coordinate limits\n",
    "x_corr = ax.get_xlim()\n",
    "y_corr = ax.get_ylim()\n",
    "  \n",
    "# make room for text\n",
    "header = y_corr[1] / 5\n",
    "y_corr = (y_corr[0], y_corr[1] + header)\n",
    "ax.set_ylim(y_corr[0], y_corr[1])\n",
    " \n",
    "# print historical volatility on plot\n",
    "x = x_corr[0] + (x_corr[1] - x_corr[0]) / 30\n",
    "y = y_corr[1] - (y_corr[1] - y_corr[0]) / 15\n",
    "ax.text(x, y , 'Annualized Volatility: ' + str(np.round(std*100, 1))+'%',\n",
    "    fontsize=11, fontweight='bold')\n",
    "x = x_corr[0] + (x_corr[1] - x_corr[0]) / 15\n",
    "y -= (y_corr[1] - y_corr[0]) / 20\n",
    "\n",
    "# Plot boxplot\n",
    "not_nan_returns = [item for item in returns.values if not(pd.isna(item)) == True]\n",
    "fig = plt.figure(figsize =(10, 7))\n",
    "plt.boxplot(not_nan_returns)\n",
    "plt.show()"
   ]
  },
  {
   "cell_type": "markdown",
   "id": "33b220be",
   "metadata": {},
   "source": [
    "The distribution of Returns, especially the boxplot, shows quite a few outliers with extremely high or low daily returns. However, we cannot conclude whether they are due to errors or not."
   ]
  },
  {
   "cell_type": "code",
   "execution_count": 19,
   "id": "f1f688b8",
   "metadata": {},
   "outputs": [
    {
     "data": {
      "image/png": "[encoded data removed]",
      "text/plain": [
       "<Figure size 720x504 with 1 Axes>"
      ]
     },
     "metadata": {
      "needs_background": "light"
     },
     "output_type": "display_data"
    }
   ],
   "source": [
    "# Calculate the returns volitility for signal and compare with that of the adj close price\n",
    "returns_signal = (np.log(prediction_adjclose / prediction_adjclose.shift(-1)))\n",
    "      \n",
    "# calculate daily standard deviation of returns\n",
    "predicted_daily_std = np.std(returns_signal)\n",
    "  \n",
    "# annualized daily standard deviation\n",
    "predicted_std = predicted_daily_std * 252 ** 0.5\n",
    "\n",
    "# Plot histograms\n",
    "fig, ax = plt.subplots(1, 1, figsize=(10, 7))\n",
    "n, bins, patches = ax.hist(\n",
    "    returns_signal.values,\n",
    "    bins=50, alpha=0.65, color='blue')\n",
    " \n",
    "ax.set_xlabel('log return of predicted price')\n",
    "ax.set_ylabel('frequency of log return')\n",
    "ax.set_title('Historical Volatility')\n",
    "  \n",
    "# get x and y coordinate limits\n",
    "x_corr = ax.get_xlim()\n",
    "y_corr = ax.get_ylim()\n",
    "  \n",
    "# make room for text\n",
    "header = y_corr[1] / 5\n",
    "y_corr = (y_corr[0], y_corr[1] + header)\n",
    "ax.set_ylim(y_corr[0], y_corr[1])\n",
    " \n",
    "# print historical volatility on plot\n",
    "x = x_corr[0] + (x_corr[1] - x_corr[0]) / 30\n",
    "y = y_corr[1] - (y_corr[1] - y_corr[0]) / 15\n",
    "ax.text(x, y , 'Annualized Volatility: ' + str(np.round(std*100, 1))+'%',\n",
    "    fontsize=11, fontweight='bold')\n",
    "x = x_corr[0] + (x_corr[1] - x_corr[0]) / 15\n",
    "y -= (y_corr[1] - y_corr[0]) / 20"
   ]
  },
  {
   "cell_type": "markdown",
   "id": "05e3b8ba",
   "metadata": {},
   "source": [
    "The histogram for predicted returns is more disperse compared with actual returns."
   ]
  },
  {
   "cell_type": "code",
   "execution_count": 20,
   "id": "439e98f8",
   "metadata": {},
   "outputs": [
    {
     "data": {
      "text/plain": [
       "<AxesSubplot:xlabel='Date'>"
      ]
     },
     "execution_count": 20,
     "metadata": {},
     "output_type": "execute_result"
    },
    {
     "data": {
      "image/png": "[encoded data removed]",
      "text/plain": [
       "<Figure size 432x288 with 1 Axes>"
      ]
     },
     "metadata": {
      "needs_background": "light"
     },
     "output_type": "display_data"
    }
   ],
   "source": [
    "# Plotting the scaled signal prediction against the adj close price\n",
    "data[\"Prediction Adj Close\"] = prediction_adjclose\n",
    "data.plot(x=\"Date\", y=[\"Prediction Adj Close\", \"Adj Close Clean\"])"
   ]
  },
  {
   "cell_type": "code",
   "execution_count": 21,
   "id": "53fa41ff",
   "metadata": {},
   "outputs": [
    {
     "name": "stdout",
     "output_type": "stream",
     "text": [
      "Actual Returns Volatility: 0.292603\n",
      "Predicted Signal Volatility: 0.975114\n"
     ]
    }
   ],
   "source": [
    "# Compare the difference in volatility between Adj Close Price and the Signal Prediction\n",
    "predicted_returns = (np.log(prediction_adjclose / prediction_adjclose.shift(-1)))\n",
    "predicted_daily_std = np.std(predicted_returns)\n",
    "predicted_std = predicted_daily_std * 252 ** 0.5\n",
    "print('Actual Returns Volatility: %f' % std)\n",
    "print('Predicted Signal Volatility: %f' % predicted_std)"
   ]
  },
  {
   "cell_type": "markdown",
   "id": "dafb1ab2",
   "metadata": {},
   "source": [
    "From both the plot and calculated volatilities, we can see that predicted return has much higher volability compared to the actual return. This indicates that the signal is not good at forecasting the volability of the actual price."
   ]
  },
  {
   "cell_type": "markdown",
   "id": "c075d6c3",
   "metadata": {},
   "source": [
    "# 3. Observations and Next Steps"
   ]
  },
  {
   "cell_type": "markdown",
   "id": "5b1363bd",
   "metadata": {},
   "source": [
    "### Observations"
   ]
  },
  {
   "cell_type": "markdown",
   "id": "f2ecd63a",
   "metadata": {},
   "source": [
    "Above analysis shows that the signal is quite good at forecasting the price, especially for the adj close price, but not good at modeling the volatility. For the next step, We further zoom in to a few time windows to find more interesting observations."
   ]
  },
  {
   "cell_type": "code",
   "execution_count": 22,
   "id": "bb0b9d91",
   "metadata": {},
   "outputs": [
    {
     "data": {
      "text/plain": [
       "<AxesSubplot:xlabel='Date'>"
      ]
     },
     "execution_count": 22,
     "metadata": {},
     "output_type": "execute_result"
    },
    {
     "data": {
      "image/png": "[encoded data removed]",
      "text/plain": [
       "<Figure size 432x288 with 1 Axes>"
      ]
     },
     "metadata": {
      "needs_background": "light"
     },
     "output_type": "display_data"
    }
   ],
   "source": [
    "zoomed2 = data.loc[(data[\"Date\"]>\"2016-07-01\")& (data[\"Date\"]<\"2017-07-01\")]\n",
    "zoomed2.plot(x=\"Date\", y=[\"Prediction Adj Close\", \"Adj Close Clean\"])"
   ]
  },
  {
   "cell_type": "code",
   "execution_count": 23,
   "id": "6fa0a006",
   "metadata": {},
   "outputs": [
    {
     "data": {
      "text/plain": [
       "<AxesSubplot:xlabel='Date'>"
      ]
     },
     "execution_count": 23,
     "metadata": {},
     "output_type": "execute_result"
    },
    {
     "data": {
      "image/png": "[encoded data removed]",
      "text/plain": [
       "<Figure size 432x288 with 1 Axes>"
      ]
     },
     "metadata": {
      "needs_background": "light"
     },
     "output_type": "display_data"
    }
   ],
   "source": [
    "zoomed3 = data.loc[(data[\"Date\"]>\"2017-09-01\")& (data[\"Date\"]<\"2018-05-01\")]\n",
    "zoomed3.plot(x=\"Date\", y=[\"Prediction Adj Close\", \"Adj Close Clean\"])"
   ]
  },
  {
   "cell_type": "markdown",
   "id": "fdb2f5ec",
   "metadata": {},
   "source": [
    "After zooming in, we can clearly observe the volatility difference. Furthermore, we can observe a leading pattern, where on some instances the predition price (blue) is ahead of the actual price (orange) by a few days! For example, we clearly see that the sudden price jumps on 12/5/16 and 3/27/17 could be forecasted by signal peaks 3 days before. However, not all the peaks in signals successfully forecasted the price jump. For example, although we observe sudden jumps in the signal on 7/13/16 and 11/13/17, no jumps can be found around these two days. These \"false alarms\" could cause the traders to believe that the price could have sudden jumps in a few days, and therefore could lead to terrible trading mistakes. These false alarms should be avoided if we want to make use of the signal's leading effect."
   ]
  },
  {
   "cell_type": "markdown",
   "id": "ca308405",
   "metadata": {},
   "source": [
    "### Next Steps"
   ]
  },
  {
   "cell_type": "markdown",
   "id": "9dd7d800",
   "metadata": {},
   "source": [
    "The findings of high predictive power and leading effect of the signal are encouraging. The next steps would be to fine tune the model to achieve better forecasting of the volability, as well as to avoid false alarms. These could help to improve returns in trading using this forecasting signal."
   ]
  }
 ],
 "metadata": {
  "kernelspec": {
   "display_name": "Python 3",
   "language": "python",
   "name": "python3"
  },
  "language_info": {
   "codemirror_mode": {
    "name": "ipython",
    "version": 3
   },
   "file_extension": ".py",
   "mimetype": "text/x-python",
   "name": "python",
   "nbconvert_exporter": "python",
   "pygments_lexer": "ipython3",
   "version": "3.7.7"
  }
 },
 "nbformat": 4,
 "nbformat_minor": 5
}
